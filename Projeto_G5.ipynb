{
  "nbformat": 4,
  "nbformat_minor": 0,
  "metadata": {
    "colab": {
      "name": "Projeto G5.ipynb",
      "provenance": [],
      "collapsed_sections": []
    },
    "kernelspec": {
      "name": "python3",
      "display_name": "Python 3"
    },
    "language_info": {
      "name": "python"
    }
  },
  "cells": [
    {
      "cell_type": "code",
      "metadata": {
        "id": "j7JjjA4CBBa-"
      },
      "source": [
        "import pandas as pd\n",
        "import numpy as np"
      ],
      "execution_count": null,
      "outputs": []
    },
    {
      "cell_type": "code",
      "metadata": {
        "id": "QjXe9vgcCQi6"
      },
      "source": [
        "xls = pd.read_excel('FIFA_21.xlsx')\n",
        "df = pd.DataFrame(xls)"
      ],
      "execution_count": null,
      "outputs": []
    },
    {
      "cell_type": "code",
      "metadata": {
        "id": "TJcXnysOM45q"
      },
      "source": [
        "pd.set_option('display.max_rows', None)\n",
        "pd.set_option('display.max_columns', None)"
      ],
      "execution_count": null,
      "outputs": []
    },
    {
      "cell_type": "code",
      "metadata": {
        "id": "fsl2jPTuMX9W"
      },
      "source": [
        "def filtro(age= True or False, nationality= True or False, wage= True or False, overall= True or False, contract= True or False, release_clause= True or False, potential= True or False, player_positions= True or False):\n",
        "  df1 = df\n",
        "  if age == True:\n",
        "    agestart = int(input('IDADE MAIOR QUE: '))\n",
        "    print()\n",
        "    agelimit = int(input('IDADE MENOR QUE: '))\n",
        "    df1 = df1[df1['age']>= agestart]\n",
        "    df1 = df1[df1['age']<= agelimit]\n",
        "    print()\n",
        "  elif age == False:\n",
        "    pass\n",
        "  if nationality == True:\n",
        "    nacional= input(\"NACIONALIDADE: \")\n",
        "    df1= df1[df1[\"nationality\"]== nacional.title()]\n",
        "    print()\n",
        "  elif nationality == False:\n",
        "    pass\n",
        "  if wage == True:\n",
        "    wagelimit = float(input('SALÁRIO MENOR QUE: '))\n",
        "    df1 = df1[df1['wage_eur']<= wagelimit]\n",
        "    print()\n",
        "  elif wage == False:\n",
        "    pass\n",
        "  if overall == True:\n",
        "    overallstart = int(input('OVERALL MAIOR QUE: '))\n",
        "    df1 = df1[df1['overall']>= overallstart]\n",
        "    print()\n",
        "  elif overall == False:\n",
        "    pass\n",
        "  if contract == True:\n",
        "    contractlimit = int(input('VALIDADE DO CONTRATO MENOR QUE: '))\n",
        "    df1 = df1[df1['contract_valid_until']<= contractlimit]\n",
        "    print()\n",
        "  elif contract == False:\n",
        "    pass\n",
        "  if release_clause == True:\n",
        "    relclauselimit = int(input('MULTA DE RECISÃO MENOR QUE: '))\n",
        "    df1 = df1[df1['release_clause_eur']<= relclauselimit]\n",
        "    print()\n",
        "  elif release_clause == False:\n",
        "    pass\n",
        "  if potential == True:\n",
        "    potencialstart= float(input(\"POTENCIAL MAIOR QUE: \"))\n",
        "    df1= df1[df1[\"potential\"]>= potencialstart]\n",
        "    print()\n",
        "  elif potential == False:\n",
        "    pass\n",
        "  if player_positions == True:\n",
        "    ppos = str(input('POSIÇÃO DO JOGADOR: '))\n",
        "    df1 = df1[df1['player_positions'].str.contains(ppos.upper())]\n",
        "    print()\n",
        "  elif player_positions == False:\n",
        "    pass\n",
        "  print('Organizando tabela...')\n",
        "  print()\n",
        "  ordens = []\n",
        "  for a in range(16):\n",
        "    ordem = str(input(\"ORDENAR TABELA PELO(S) PARÂMETRO(S): \"))\n",
        "    print()\n",
        "    if ordem == '0':\n",
        "      break\n",
        "    ordens.append(ordem)\n",
        "  df1 = df1.sort_values(ordens)\n",
        "  print(df1)"
      ],
      "execution_count": null,
      "outputs": []
    },
    {
      "cell_type": "code",
      "metadata": {
        "id": "rG3FnBCnGKYY"
      },
      "source": [
        "def newplayer():\n",
        "  nome = str(input('Nome do jogador: ')).title()\n",
        "  idade = int(input('Idade do jogador: '))\n",
        "  altura = int(input('Altura do jogador: '))\n",
        "  peso= int(input('Peso do jogador: '))\n",
        "  nacionalidade= str(input('Nacionalidade do jogador: ')).title()\n",
        "  clube= str(input('Clube do jogador: ')).title()\n",
        "  overall= int(input('Overall do jogador: '))\n",
        "  potencial= int(input('Potencial do jogador: '))\n",
        "  valor= int(input('Valor do jogador: '))\n",
        "  salario= int(input('Sálario do jogador: '))\n",
        "  posicoes= str(input('Posições do jogador: ')).upper()\n",
        "  pe= str(input('Pé forte do jogador: ')).title()\n",
        "  pefraco= int(input('Habilidade do jogador com o pé fraco: '))\n",
        "  habilidade= int(input('Habilidade do jogador: '))\n",
        "  ritmo= str(input('Ritmo do jogador: ')).title()\n",
        "  multa= int(input('Multa do contrato do jogador: '))\n",
        "  data= str(input('Data em que o jogador entrou no clube: '))\n",
        "  validade= int(input('Validade do contrato: '))\n",
        "  index = len(df) + 1\n",
        "  df.loc[index] = [nome, idade, altura, peso, nacionalidade, clube, overall, potencial, valor, salario, posicoes, pe, pefraco, habilidade, ritmo, multa, data, validade]\n",
        "  return df.tail()"
      ],
      "execution_count": null,
      "outputs": []
    },
    {
      "cell_type": "code",
      "metadata": {
        "id": "xmR_-fMk-4qv"
      },
      "source": [
        "filtro(age= True, nationality= True, wage= True, overall= True, contract= True, release_clause= False, potential= True, player_positions= True)"
      ],
      "execution_count": null,
      "outputs": []
    },
    {
      "cell_type": "code",
      "metadata": {
        "id": "U2V4R-Zdbaqx"
      },
      "source": [
        "newplayer()"
      ],
      "execution_count": null,
      "outputs": []
    }
  ]
}